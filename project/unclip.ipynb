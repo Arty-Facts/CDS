{
 "cells": [
  {
   "cell_type": "code",
   "execution_count": 8,
   "metadata": {},
   "outputs": [
    {
     "name": "stderr",
     "output_type": "stream",
     "text": [
      "Couldn't connect to the Hub: (MaxRetryError('HTTPSConnectionPool(host=\\'huggingface.co\\', port=443): Max retries exceeded with url: /api/models/kakaobrain/karlo-v1-alpha (Caused by NameResolutionError(\"<urllib3.connection.HTTPSConnection object at 0x72872fdea3f0>: Failed to resolve \\'huggingface.co\\' ([Errno -2] Name or service not known)\"))'), '(Request ID: 6979e654-0fa8-401a-963f-77fb607e363d)').\n",
      "Will try to load from local cache.\n"
     ]
    },
    {
     "data": {
      "application/vnd.jupyter.widget-view+json": {
       "model_id": "3f088e5e7f22428ebfe1659526f63ca3",
       "version_major": 2,
       "version_minor": 0
      },
      "text/plain": [
       "Loading pipeline components...:   0%|          | 0/10 [00:00<?, ?it/s]"
      ]
     },
     "metadata": {},
     "output_type": "display_data"
    },
    {
     "data": {
      "application/vnd.jupyter.widget-view+json": {
       "model_id": "7cf708a231464955be9987564c03986b",
       "version_major": 2,
       "version_minor": 0
      },
      "text/plain": [
       "  0%|          | 0/25 [00:00<?, ?it/s]"
      ]
     },
     "metadata": {},
     "output_type": "display_data"
    },
    {
     "name": "stdout",
     "output_type": "stream",
     "text": [
      "torch.Size([1, 768]) tensor(-9.2670) tensor(10.0168) tensor(6.6251e-05) tensor(0.7073)\n"
     ]
    },
    {
     "data": {
      "application/vnd.jupyter.widget-view+json": {
       "model_id": "46bf06e354f94aa78e1c5eaf959bd44a",
       "version_major": 2,
       "version_minor": 0
      },
      "text/plain": [
       "  0%|          | 0/10 [00:00<?, ?it/s]"
      ]
     },
     "metadata": {},
     "output_type": "display_data"
    },
    {
     "data": {
      "application/vnd.jupyter.widget-view+json": {
       "model_id": "49b780e23fbf4cb893744ecf1b71398f",
       "version_major": 2,
       "version_minor": 0
      },
      "text/plain": [
       "  0%|          | 0/7 [00:00<?, ?it/s]"
      ]
     },
     "metadata": {},
     "output_type": "display_data"
    }
   ],
   "source": [
    "from diffusers import UnCLIPPipeline\n",
    "import torch\n",
    "pipe = UnCLIPPipeline.from_pretrained(\"kakaobrain/karlo-v1-alpha\", torch_dtype=torch.float32)\n",
    "pipe = pipe.to('cpu')\n",
    "prompt = \"a high-resolution photograph of a big red frog on a green leaf.\"\n",
    "image = pipe([prompt], decoder_num_inference_steps=10, super_res_num_inference_steps= 7).images[0]\n",
    "image.save(\"./frog.png\")"
   ]
  },
  {
   "cell_type": "code",
   "execution_count": 7,
   "metadata": {},
   "outputs": [
    {
     "data": {
      "text/plain": [
       "PriorTransformer(\n",
       "  (time_proj): Timesteps()\n",
       "  (time_embedding): TimestepEmbedding(\n",
       "    (linear_1): Linear(in_features=2048, out_features=2048, bias=True)\n",
       "    (act): SiLU()\n",
       "    (linear_2): Linear(in_features=2048, out_features=2048, bias=True)\n",
       "  )\n",
       "  (proj_in): Linear(in_features=768, out_features=2048, bias=True)\n",
       "  (embedding_proj): Linear(in_features=768, out_features=2048, bias=True)\n",
       "  (encoder_hidden_states_proj): Linear(in_features=768, out_features=2048, bias=True)\n",
       "  (transformer_blocks): ModuleList(\n",
       "    (0-19): 20 x BasicTransformerBlock(\n",
       "      (norm1): LayerNorm((2048,), eps=1e-05, elementwise_affine=True)\n",
       "      (attn1): Attention(\n",
       "        (to_q): Linear(in_features=2048, out_features=2048, bias=True)\n",
       "        (to_k): Linear(in_features=2048, out_features=2048, bias=True)\n",
       "        (to_v): Linear(in_features=2048, out_features=2048, bias=True)\n",
       "        (to_out): ModuleList(\n",
       "          (0): Linear(in_features=2048, out_features=2048, bias=True)\n",
       "          (1): Dropout(p=0.0, inplace=False)\n",
       "        )\n",
       "      )\n",
       "      (norm3): LayerNorm((2048,), eps=1e-05, elementwise_affine=True)\n",
       "      (ff): FeedForward(\n",
       "        (net): ModuleList(\n",
       "          (0): GELU(\n",
       "            (proj): Linear(in_features=2048, out_features=8192, bias=True)\n",
       "          )\n",
       "          (1): Dropout(p=0.0, inplace=False)\n",
       "          (2): Linear(in_features=8192, out_features=2048, bias=True)\n",
       "        )\n",
       "      )\n",
       "    )\n",
       "  )\n",
       "  (norm_out): LayerNorm((2048,), eps=1e-05, elementwise_affine=True)\n",
       "  (proj_to_clip_embeddings): Linear(in_features=2048, out_features=768, bias=True)\n",
       ")"
      ]
     },
     "execution_count": 7,
     "metadata": {},
     "output_type": "execute_result"
    }
   ],
   "source": [
    "pipe.prior"
   ]
  }
 ],
 "metadata": {
  "kernelspec": {
   "display_name": "local_venv",
   "language": "python",
   "name": "python3"
  },
  "language_info": {
   "codemirror_mode": {
    "name": "ipython",
    "version": 3
   },
   "file_extension": ".py",
   "mimetype": "text/x-python",
   "name": "python",
   "nbconvert_exporter": "python",
   "pygments_lexer": "ipython3",
   "version": "3.12.3"
  }
 },
 "nbformat": 4,
 "nbformat_minor": 2
}
